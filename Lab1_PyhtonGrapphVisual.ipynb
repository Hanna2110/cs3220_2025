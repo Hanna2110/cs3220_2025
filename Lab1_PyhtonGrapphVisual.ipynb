{
 "cells": [
  {
   "cell_type": "markdown",
   "id": "7aa703af",
   "metadata": {},
   "source": [
    "# Graph Visualization with Python"
   ]
  },
  {
   "cell_type": "markdown",
   "id": "bd2a1f9c",
   "metadata": {},
   "source": [
    "A **Graph** is a non-linear data structure consisting of *nodes* and *edges*. \n",
    "\n",
    "The nodes are sometimes also referred to as vertices and the edges are lines or arcs that connect any two nodes in the graph"
   ]
  },
  {
   "cell_type": "markdown",
   "id": "0f2666ec",
   "metadata": {},
   "source": [
    "The power of graphs is already well known. \n",
    "**Graphs** can **represent complex data structures and relationships in various domains**.\n",
    "For example:\n",
    "* social networks, \n",
    "* recommendation engines, \n",
    "* transportation systems,\n",
    "etc."
   ]
  },
  {
   "cell_type": "markdown",
   "id": "4e0d16d4",
   "metadata": {},
   "source": [
    "[**NetworkX** ](https://networkx.org/)is the well-known Python library for studying graphs and networks.\n",
    "* is a Python package for the creation, manipulation, and study of the structure, dynamics, and functions of complex networks."
   ]
  },
  {
   "cell_type": "code",
   "execution_count": null,
   "id": "51f08e4f",
   "metadata": {},
   "outputs": [],
   "source": []
  }
 ],
 "metadata": {
  "language_info": {
   "name": "python"
  }
 },
 "nbformat": 4,
 "nbformat_minor": 5
}
