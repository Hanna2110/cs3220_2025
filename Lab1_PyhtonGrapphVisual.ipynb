{
 "cells": [
  {
   "cell_type": "markdown",
   "id": "7aa703af",
   "metadata": {},
   "source": [
    "# Graph Visualization with Python"
   ]
  },
  {
   "cell_type": "markdown",
   "id": "bd2a1f9c",
   "metadata": {},
   "source": [
    "A **Graph** is a non-linear data structure consisting of *nodes* and *edges*. \n",
    "\n",
    "The nodes are sometimes also referred to as vertices and the edges are lines or arcs that connect any two nodes in the graph"
   ]
  },
  {
   "cell_type": "markdown",
   "id": "0f2666ec",
   "metadata": {},
   "source": [
    "The power of graphs is already well known. \n",
    "**Graphs** can **represent complex data structures and relationships in various domains**.\n",
    "For example:\n",
    "* social networks, \n",
    "* recommendation engines, \n",
    "* transportation systems,\n",
    "etc."
   ]
  },
  {
   "cell_type": "markdown",
   "id": "4e0d16d4",
   "metadata": {},
   "source": [
    "[**NetworkX** ](https://networkx.org/)is the well-known Python library for studying graphs and networks.\n",
    "* is a Python package for the creation, manipulation, and study of the structure, dynamics, and functions of complex networks."
   ]
  },
  {
   "cell_type": "markdown",
   "id": "cd00dbb7",
   "metadata": {},
   "source": [
    "But we'll explore a few additional libraries for visualizing graphs in Python:\n",
    "* [Pyvis](https://pyvis.readthedocs.io/en/latest/tutorial.html)\n",
    "* Jaal"
   ]
  },
  {
   "cell_type": "markdown",
   "id": "870bdf2c",
   "metadata": {},
   "source": [
    "## Pyvis"
   ]
  },
  {
   "cell_type": "markdown",
   "id": "f5091451",
   "metadata": {},
   "source": [
    "The pyvis library is meant for quick generation of visual network graphs with minimal python code. "
   ]
  },
  {
   "cell_type": "markdown",
   "id": "c8b64590",
   "metadata": {},
   "source": [
    "### Installation"
   ]
  },
  {
   "cell_type": "markdown",
   "id": "203049a4",
   "metadata": {},
   "source": [
    "Install with pip:\n",
    "\n",
    "`$ pip install pyvis`"
   ]
  },
  {
   "attachments": {
    "image.png": {
     "image/png": "[encoded data removed]"
    }
   },
   "cell_type": "markdown",
   "id": "54901317",
   "metadata": {},
   "source": [
    "![image.png](attachment:image.png)"
   ]
  },
  {
   "cell_type": "code",
   "execution_count": null,
   "id": "51f08e4f",
   "metadata": {},
   "outputs": [],
   "source": [
    "from pyvis.network import Network #All networks must be instantiated as a Network class instance"
   ]
  },
  {
   "cell_type": "markdown",
   "id": "a2f4f9e3",
   "metadata": {},
   "source": [
    "Let's add **[Pandas](https://pandas.pydata.org/)** - a data manipulation package in Python for tabular data. \n",
    "\n",
    "[Python pandas Tutorial: The Ultimate Guide for Beginners](https://www.datacamp.com/tutorial/pandas)\n",
    "\n",
    "Installing pandas is straightforward; just use the pip install command in your terminal:\n",
    "\n",
    "`$ pip install pandas`"
   ]
  },
  {
   "attachments": {
    "image.png": {
     "image/png": "[encoded data removed]"
    }
   },
   "cell_type": "markdown",
   "id": "069a050c",
   "metadata": {},
   "source": [
    "![image.png](attachment:image.png)"
   ]
  },
  {
   "cell_type": "code",
   "execution_count": null,
   "id": "7dc612fd",
   "metadata": {},
   "outputs": [],
   "source": [
    "import pandas as pd #To begin working with pandas, import the pandas Python package "
   ]
  },
  {
   "cell_type": "markdown",
   "id": "f29f3615",
   "metadata": {},
   "source": [
    "### Example 1: social network visualizing"
   ]
  },
  {
   "cell_type": "markdown",
   "id": "5e43699e",
   "metadata": {},
   "source": [
    "Let’s visualize an actual social network. We’ll use a dataset containing [Facebook friend lists](https://snap.stanford.edu/data/ego-Facebook.html)"
   ]
  },
  {
   "cell_type": "code",
   "execution_count": 5,
   "id": "c28274c9",
   "metadata": {},
   "outputs": [
    {
     "name": "stdout",
     "output_type": "stream",
     "text": [
      "176468\n"
     ]
    }
   ],
   "source": [
    "#Loading the data\n",
    "data = pd.read_csv(\"data/facebook_combined.txt\", sep=\" \", header=None)\n",
    "print(data.size) #this dataset is quite big "
   ]
  },
  {
   "cell_type": "code",
   "execution_count": 6,
   "id": "2fc849d2",
   "metadata": {},
   "outputs": [
    {
     "data": {
      "text/html": [
       "<div>\n",
       "<style scoped>\n",
       "    .dataframe tbody tr th:only-of-type {\n",
       "        vertical-align: middle;\n",
       "    }\n",
       "\n",
       "    .dataframe tbody tr th {\n",
       "        vertical-align: top;\n",
       "    }\n",
       "\n",
       "    .dataframe thead th {\n",
       "        text-align: right;\n",
       "    }\n",
       "</style>\n",
       "<table border=\"1\" class=\"dataframe\">\n",
       "  <thead>\n",
       "    <tr style=\"text-align: right;\">\n",
       "      <th></th>\n",
       "      <th>0</th>\n",
       "      <th>1</th>\n",
       "    </tr>\n",
       "  </thead>\n",
       "  <tbody>\n",
       "    <tr>\n",
       "      <th>0</th>\n",
       "      <td>0</td>\n",
       "      <td>1</td>\n",
       "    </tr>\n",
       "    <tr>\n",
       "      <th>1</th>\n",
       "      <td>0</td>\n",
       "      <td>2</td>\n",
       "    </tr>\n",
       "    <tr>\n",
       "      <th>2</th>\n",
       "      <td>0</td>\n",
       "      <td>3</td>\n",
       "    </tr>\n",
       "    <tr>\n",
       "      <th>3</th>\n",
       "      <td>0</td>\n",
       "      <td>4</td>\n",
       "    </tr>\n",
       "    <tr>\n",
       "      <th>4</th>\n",
       "      <td>0</td>\n",
       "      <td>5</td>\n",
       "    </tr>\n",
       "  </tbody>\n",
       "</table>\n",
       "</div>"
      ],
      "text/plain": [
       "   0  1\n",
       "0  0  1\n",
       "1  0  2\n",
       "2  0  3\n",
       "3  0  4\n",
       "4  0  5"
      ]
     },
     "execution_count": 6,
     "metadata": {},
     "output_type": "execute_result"
    }
   ],
   "source": [
    "data.head(5)"
   ]
  },
  {
   "cell_type": "code",
   "execution_count": 7,
   "id": "2e22eba9",
   "metadata": {},
   "outputs": [
    {
     "data": {
      "text/html": [
       "<div>\n",
       "<style scoped>\n",
       "    .dataframe tbody tr th:only-of-type {\n",
       "        vertical-align: middle;\n",
       "    }\n",
       "\n",
       "    .dataframe tbody tr th {\n",
       "        vertical-align: top;\n",
       "    }\n",
       "\n",
       "    .dataframe thead th {\n",
       "        text-align: right;\n",
       "    }\n",
       "</style>\n",
       "<table border=\"1\" class=\"dataframe\">\n",
       "  <thead>\n",
       "    <tr style=\"text-align: right;\">\n",
       "      <th></th>\n",
       "      <th>0</th>\n",
       "      <th>1</th>\n",
       "    </tr>\n",
       "  </thead>\n",
       "  <tbody>\n",
       "    <tr>\n",
       "      <th>88229</th>\n",
       "      <td>4026</td>\n",
       "      <td>4030</td>\n",
       "    </tr>\n",
       "    <tr>\n",
       "      <th>88230</th>\n",
       "      <td>4027</td>\n",
       "      <td>4031</td>\n",
       "    </tr>\n",
       "    <tr>\n",
       "      <th>88231</th>\n",
       "      <td>4027</td>\n",
       "      <td>4032</td>\n",
       "    </tr>\n",
       "    <tr>\n",
       "      <th>88232</th>\n",
       "      <td>4027</td>\n",
       "      <td>4038</td>\n",
       "    </tr>\n",
       "    <tr>\n",
       "      <th>88233</th>\n",
       "      <td>4031</td>\n",
       "      <td>4038</td>\n",
       "    </tr>\n",
       "  </tbody>\n",
       "</table>\n",
       "</div>"
      ],
      "text/plain": [
       "          0     1\n",
       "88229  4026  4030\n",
       "88230  4027  4031\n",
       "88231  4027  4032\n",
       "88232  4027  4038\n",
       "88233  4031  4038"
      ]
     },
     "execution_count": 7,
     "metadata": {},
     "output_type": "execute_result"
    }
   ],
   "source": [
    "data.tail(5)"
   ]
  },
  {
   "cell_type": "code",
   "execution_count": 22,
   "id": "11d85165",
   "metadata": {},
   "outputs": [
    {
     "data": {
      "text/plain": [
       "3663"
      ]
     },
     "execution_count": 22,
     "metadata": {},
     "output_type": "execute_result"
    }
   ],
   "source": [
    "data.iloc[:,0].unique().size # N-of persons "
   ]
  },
  {
   "cell_type": "markdown",
   "id": "5345fdb4",
   "metadata": {},
   "source": [
    "Let's limit our visualization to 100 samples"
   ]
  },
  {
   "cell_type": "code",
   "execution_count": 45,
   "id": "d3405e76",
   "metadata": {},
   "outputs": [],
   "source": [
    "sample = data.sample(100, random_state = 1)"
   ]
  },
  {
   "cell_type": "code",
   "execution_count": 46,
   "id": "84d6ff89",
   "metadata": {},
   "outputs": [
    {
     "data": {
      "text/html": [
       "<div>\n",
       "<style scoped>\n",
       "    .dataframe tbody tr th:only-of-type {\n",
       "        vertical-align: middle;\n",
       "    }\n",
       "\n",
       "    .dataframe tbody tr th {\n",
       "        vertical-align: top;\n",
       "    }\n",
       "\n",
       "    .dataframe thead th {\n",
       "        text-align: right;\n",
       "    }\n",
       "</style>\n",
       "<table border=\"1\" class=\"dataframe\">\n",
       "  <thead>\n",
       "    <tr style=\"text-align: right;\">\n",
       "      <th></th>\n",
       "      <th>0</th>\n",
       "      <th>1</th>\n",
       "    </tr>\n",
       "  </thead>\n",
       "  <tbody>\n",
       "    <tr>\n",
       "      <th>74346</th>\n",
       "      <td>2839</td>\n",
       "      <td>3064</td>\n",
       "    </tr>\n",
       "    <tr>\n",
       "      <th>62630</th>\n",
       "      <td>2309</td>\n",
       "      <td>2590</td>\n",
       "    </tr>\n",
       "    <tr>\n",
       "      <th>199</th>\n",
       "      <td>0</td>\n",
       "      <td>200</td>\n",
       "    </tr>\n",
       "    <tr>\n",
       "      <th>51398</th>\n",
       "      <td>2088</td>\n",
       "      <td>2468</td>\n",
       "    </tr>\n",
       "    <tr>\n",
       "      <th>27375</th>\n",
       "      <td>1319</td>\n",
       "      <td>1568</td>\n",
       "    </tr>\n",
       "  </tbody>\n",
       "</table>\n",
       "</div>"
      ],
      "text/plain": [
       "          0     1\n",
       "74346  2839  3064\n",
       "62630  2309  2590\n",
       "199       0   200\n",
       "51398  2088  2468\n",
       "27375  1319  1568"
      ]
     },
     "execution_count": 46,
     "metadata": {},
     "output_type": "execute_result"
    }
   ],
   "source": [
    "sample.head(5)"
   ]
  },
  {
   "cell_type": "code",
   "execution_count": 47,
   "id": "3158bae4",
   "metadata": {},
   "outputs": [
    {
     "data": {
      "text/html": [
       "<div>\n",
       "<style scoped>\n",
       "    .dataframe tbody tr th:only-of-type {\n",
       "        vertical-align: middle;\n",
       "    }\n",
       "\n",
       "    .dataframe tbody tr th {\n",
       "        vertical-align: top;\n",
       "    }\n",
       "\n",
       "    .dataframe thead th {\n",
       "        text-align: right;\n",
       "    }\n",
       "</style>\n",
       "<table border=\"1\" class=\"dataframe\">\n",
       "  <thead>\n",
       "    <tr style=\"text-align: right;\">\n",
       "      <th></th>\n",
       "      <th>person1</th>\n",
       "      <th>person2</th>\n",
       "    </tr>\n",
       "  </thead>\n",
       "  <tbody>\n",
       "    <tr>\n",
       "      <th>74346</th>\n",
       "      <td>2839</td>\n",
       "      <td>3064</td>\n",
       "    </tr>\n",
       "    <tr>\n",
       "      <th>62630</th>\n",
       "      <td>2309</td>\n",
       "      <td>2590</td>\n",
       "    </tr>\n",
       "    <tr>\n",
       "      <th>199</th>\n",
       "      <td>0</td>\n",
       "      <td>200</td>\n",
       "    </tr>\n",
       "  </tbody>\n",
       "</table>\n",
       "</div>"
      ],
      "text/plain": [
       "       person1  person2\n",
       "74346     2839     3064\n",
       "62630     2309     2590\n",
       "199          0      200"
      ]
     },
     "execution_count": 47,
     "metadata": {},
     "output_type": "execute_result"
    }
   ],
   "source": [
    "sample.columns = [\"person1\", \"person2\"]\n",
    "sample.head(3)"
   ]
  },
  {
   "cell_type": "markdown",
   "id": "2f733045",
   "metadata": {},
   "source": [
    "To construct a **network graph**, start by creating an **instance of the Network object**."
   ]
  },
  {
   "cell_type": "code",
   "execution_count": 108,
   "id": "8d448a21",
   "metadata": {},
   "outputs": [],
   "source": [
    "net = Network(notebook = True, cdn_resources = \"remote\", #  For visualization within a notebook\n",
    "                bgcolor =\"#242020\",\n",
    "                font_color = \"white\",\n",
    "                height = \"750px\",\n",
    "                width = \"100%\",\n",
    ")"
   ]
  },
  {
   "cell_type": "markdown",
   "id": "c3e43f05",
   "metadata": {},
   "source": [
    "We'll set the nodes to be a unique list of people "
   ]
  },
  {
   "cell_type": "code",
   "execution_count": 31,
   "id": "df9de0bb",
   "metadata": {},
   "outputs": [],
   "source": [
    "import numpy as np"
   ]
  },
  {
   "cell_type": "code",
   "execution_count": 49,
   "id": "0dbde00b",
   "metadata": {},
   "outputs": [
    {
     "data": {
      "text/plain": [
       "numpy.ndarray"
      ]
     },
     "execution_count": 49,
     "metadata": {},
     "output_type": "execute_result"
    }
   ],
   "source": [
    "type(sample['person1'].values)"
   ]
  },
  {
   "cell_type": "code",
   "execution_count": 109,
   "id": "acc1ea68",
   "metadata": {},
   "outputs": [
    {
     "data": {
      "text/plain": [
       "array([   0,   26,   55,   67,  104,  107,  123,  200,  277,  304,  334,\n",
       "        348,  369,  391,  433,  474,  515,  525,  566,  582,  627,  686,\n",
       "        697,  724,  792,  810,  823,  824,  837,  931,  954,  966, 1024,\n",
       "       1029, 1047, 1076, 1078, 1107, 1126, 1164, 1171, 1179, 1188, 1228,\n",
       "       1238, 1256, 1269, 1287, 1304, 1313, 1319, 1330, 1352, 1361, 1409,\n",
       "       1420, 1436, 1444, 1470, 1509, 1534, 1539, 1559, 1568, 1576, 1589,\n",
       "       1613, 1622, 1663, 1683, 1684, 1699, 1709, 1715, 1718, 1741, 1778,\n",
       "       1783, 1809, 1831, 1839, 1843, 1888, 1898, 1902, 1912, 1918, 1929,\n",
       "       1936, 1943, 1962, 1982, 1983, 2045, 2054, 2056, 2058, 2088, 2095,\n",
       "       2108, 2111, 2125, 2152, 2154, 2180, 2222, 2223, 2233, 2237, 2266,\n",
       "       2289, 2290, 2292, 2300, 2309, 2329, 2340, 2386, 2458, 2462, 2463,\n",
       "       2468, 2492, 2511, 2512, 2520, 2521, 2537, 2543, 2551, 2559, 2589,\n",
       "       2590, 2642, 2644, 2653, 2665, 2674, 2676, 2705, 2708, 2712, 2778,\n",
       "       2796, 2824, 2839, 2849, 2853, 2881, 2896, 2913, 2915, 2920, 2929,\n",
       "       2943, 2946, 2978, 3000, 3019, 3032, 3051, 3064, 3091, 3096, 3101,\n",
       "       3104, 3113, 3150, 3168, 3169, 3243, 3252, 3253, 3255, 3257, 3260,\n",
       "       3291, 3297, 3300, 3320, 3321, 3332, 3344, 3355, 3360, 3364, 3381,\n",
       "       3384, 3426, 3449, 3460, 3574, 3761, 3762, 3800])"
      ]
     },
     "execution_count": 109,
     "metadata": {},
     "output_type": "execute_result"
    }
   ],
   "source": [
    "#nodes = list(set([sample['person1'].values,sample['person2'].values]))\n",
    "nodes=np.unique(np.concatenate((sample['person1'].values,sample['person2'].values),0))\n",
    "nodes"
   ]
  },
  {
   "cell_type": "code",
   "execution_count": 51,
   "id": "59466598",
   "metadata": {},
   "outputs": [],
   "source": [
    "net.add_nodes(nodes)"
   ]
  },
  {
   "cell_type": "markdown",
   "id": "1867d7b0",
   "metadata": {},
   "source": [
    "When using the `network.Network.add_nodes()` method optional keyword arguments can be passed in to add properties to these nodes as well. \n",
    "\n",
    "The valid properties in this case are: ['size', 'value', 'title', 'x', 'y', 'label', 'color']"
   ]
  },
  {
   "cell_type": "code",
   "execution_count": 110,
   "id": "2a4e6505",
   "metadata": {},
   "outputs": [
    {
     "data": {
      "text/plain": [
       "195"
      ]
     },
     "execution_count": 110,
     "metadata": {},
     "output_type": "execute_result"
    }
   ],
   "source": [
    "nodes.size"
   ]
  },
  {
   "cell_type": "code",
   "execution_count": 111,
   "id": "846bc373",
   "metadata": {},
   "outputs": [],
   "source": [
    "# rebuild the graph from the very beginning\n",
    "net.add_nodes(nodes, title=[\"\"]*nodes.size)"
   ]
  },
  {
   "cell_type": "markdown",
   "id": "6a9facec",
   "metadata": {},
   "source": [
    "We use the values of each row as source and destination nodes for each relationship"
   ]
  },
  {
   "cell_type": "code",
   "execution_count": 112,
   "id": "6befc1e5",
   "metadata": {},
   "outputs": [
    {
     "data": {
      "text/plain": [
       "[[2839, 3064], [2309, 2590], [0, 200], [2088, 2468], [1319, 1568]]"
      ]
     },
     "execution_count": 112,
     "metadata": {},
     "output_type": "execute_result"
    }
   ],
   "source": [
    "edges = sample.values.tolist()\n",
    "edges[:5]"
   ]
  },
  {
   "cell_type": "code",
   "execution_count": 113,
   "id": "1f09ebe2",
   "metadata": {},
   "outputs": [
    {
     "data": {
      "text/plain": [
       "100"
      ]
     },
     "execution_count": 113,
     "metadata": {},
     "output_type": "execute_result"
    }
   ],
   "source": [
    "len(edges)"
   ]
  },
  {
   "cell_type": "code",
   "execution_count": 114,
   "id": "22fca32b",
   "metadata": {},
   "outputs": [],
   "source": [
    "net.add_edges(edges)"
   ]
  },
  {
   "cell_type": "code",
   "execution_count": 59,
   "id": "bf2006ab",
   "metadata": {},
   "outputs": [],
   "source": [
    "from IPython.display import display, HTML"
   ]
  },
  {
   "cell_type": "code",
   "execution_count": 63,
   "id": "57e0ec45",
   "metadata": {},
   "outputs": [
    {
     "name": "stdout",
     "output_type": "stream",
     "text": [
      "graph.html\n"
     ]
    },
    {
     "data": {
      "text/html": [
       "\n",
       "        <iframe\n",
       "            width=\"100%\"\n",
       "            height=\"750px\"\n",
       "            src=\"graph.html\"\n",
       "            frameborder=\"0\"\n",
       "            allowfullscreen\n",
       "            \n",
       "        ></iframe>\n",
       "        "
      ],
      "text/plain": [
       "<IPython.lib.display.IFrame at 0x132ae4346b0>"
      ]
     },
     "execution_count": 63,
     "metadata": {},
     "output_type": "execute_result"
    }
   ],
   "source": [
    "net.show(\"graph.html\")\n",
    "#display(HTML('graph.html'))"
   ]
  },
  {
   "attachments": {
    "image.png": {
     "image/png": "[encoded data removed]"
    }
   },
   "cell_type": "markdown",
   "id": "d870a98a",
   "metadata": {},
   "source": [
    "![image.png](attachment:image.png)"
   ]
  },
  {
   "cell_type": "code",
   "execution_count": null,
   "id": "8d3f2186",
   "metadata": {},
   "outputs": [
    {
     "data": {
      "text/plain": [
       "{0: {200},\n",
       " 26: {55},\n",
       " 55: {26},\n",
       " 67: {304},\n",
       " 104: {277},\n",
       " 107: {1699},\n",
       " 123: {334},\n",
       " 200: {0},\n",
       " 277: {104},\n",
       " 304: {67},\n",
       " 334: {123},\n",
       " 348: {474, 525},\n",
       " 369: {433},\n",
       " 391: {515},\n",
       " 433: {369},\n",
       " 474: {348},\n",
       " 515: {391},\n",
       " 525: {348},\n",
       " 566: {1313},\n",
       " 582: {627},\n",
       " 627: {582},\n",
       " 686: {810},\n",
       " 697: {824},\n",
       " 724: {823},\n",
       " 792: {837},\n",
       " 810: {686},\n",
       " 823: {724},\n",
       " 824: {697},\n",
       " 837: {792},\n",
       " 931: {1831},\n",
       " 954: {1783},\n",
       " 966: {1024},\n",
       " 1024: {966},\n",
       " 1029: {1613},\n",
       " 1047: {1420},\n",
       " 1076: {1539},\n",
       " 1078: {1843},\n",
       " 1107: {1888},\n",
       " 1126: {1269},\n",
       " 1164: {1663},\n",
       " 1171: {1534},\n",
       " 1179: {1778},\n",
       " 1188: {1228},\n",
       " 1228: {1188},\n",
       " 1238: {1330},\n",
       " 1256: {1898},\n",
       " 1269: {1126},\n",
       " 1287: {1559},\n",
       " 1304: {1709},\n",
       " 1313: {566},\n",
       " 1319: {1568},\n",
       " 1330: {1238},\n",
       " 1352: {1683},\n",
       " 1361: {1589},\n",
       " 1409: {1470},\n",
       " 1420: {1047},\n",
       " 1436: {1444},\n",
       " 1444: {1436},\n",
       " 1470: {1409},\n",
       " 1509: {1839},\n",
       " 1534: {1171},\n",
       " 1539: {1076},\n",
       " 1559: {1287},\n",
       " 1568: {1319},\n",
       " 1576: {1715},\n",
       " 1589: {1361},\n",
       " 1613: {1029},\n",
       " 1622: {1902},\n",
       " 1663: {1164},\n",
       " 1683: {1352},\n",
       " 1684: {2978},\n",
       " 1699: {107},\n",
       " 1709: {1304},\n",
       " 1715: {1576},\n",
       " 1718: {2589},\n",
       " 1741: {1809},\n",
       " 1778: {1179},\n",
       " 1783: {954},\n",
       " 1809: {1741},\n",
       " 1831: {931},\n",
       " 1839: {1509},\n",
       " 1843: {1078},\n",
       " 1888: {1107},\n",
       " 1898: {1256},\n",
       " 1902: {1622},\n",
       " 1912: {2152},\n",
       " 1918: {2329},\n",
       " 1929: {2290},\n",
       " 1936: {2644},\n",
       " 1943: {2300},\n",
       " 1962: {2520},\n",
       " 1982: {2222},\n",
       " 1983: {2058},\n",
       " 2045: {2386},\n",
       " 2054: {2537},\n",
       " 2056: {2300},\n",
       " 2058: {1983},\n",
       " 2088: {2468},\n",
       " 2095: {2462},\n",
       " 2108: {2559},\n",
       " 2111: {2511},\n",
       " 2125: {2463},\n",
       " 2152: {1912},\n",
       " 2154: {2492},\n",
       " 2180: {2458},\n",
       " 2222: {1982},\n",
       " 2223: {2289},\n",
       " 2233: {2521},\n",
       " 2237: {2340},\n",
       " 2266: {2551},\n",
       " 2289: {2223},\n",
       " 2290: {1929, 2543},\n",
       " 2292: {2512},\n",
       " 2300: {1943, 2056},\n",
       " 2309: {2590},\n",
       " 2329: {1918},\n",
       " 2340: {2237},\n",
       " 2386: {2045},\n",
       " 2458: {2180},\n",
       " 2462: {2095},\n",
       " 2463: {2125},\n",
       " 2468: {2088},\n",
       " 2492: {2154},\n",
       " 2511: {2111},\n",
       " 2512: {2292},\n",
       " 2520: {1962},\n",
       " 2521: {2233},\n",
       " 2537: {2054},\n",
       " 2543: {2290},\n",
       " 2551: {2266},\n",
       " 2559: {2108},\n",
       " 2589: {1718},\n",
       " 2590: {2309},\n",
       " 2642: {2653},\n",
       " 2644: {1936},\n",
       " 2653: {2642},\n",
       " 2665: {3253},\n",
       " 2674: {3101},\n",
       " 2676: {2920},\n",
       " 2705: {2896, 3426},\n",
       " 2708: {3051},\n",
       " 2712: {3252},\n",
       " 2778: {3381},\n",
       " 2796: {3297},\n",
       " 2824: {3091},\n",
       " 2839: {3064},\n",
       " 2849: {3169},\n",
       " 2853: {3150},\n",
       " 2881: {3113},\n",
       " 2896: {2705},\n",
       " 2913: {3104},\n",
       " 2915: {3096},\n",
       " 2920: {2676},\n",
       " 2929: {3384},\n",
       " 2943: {3243},\n",
       " 2946: {3000},\n",
       " 2978: {1684, 3300},\n",
       " 3000: {2946},\n",
       " 3019: {3168},\n",
       " 3032: {3255},\n",
       " 3051: {2708},\n",
       " 3064: {2839},\n",
       " 3091: {2824},\n",
       " 3096: {2915},\n",
       " 3101: {2674},\n",
       " 3104: {2913},\n",
       " 3113: {2881},\n",
       " 3150: {2853},\n",
       " 3168: {3019},\n",
       " 3169: {2849},\n",
       " 3243: {2943},\n",
       " 3252: {2712},\n",
       " 3253: {2665},\n",
       " 3255: {3032},\n",
       " 3257: {3364},\n",
       " 3260: {3360},\n",
       " 3291: {3344},\n",
       " 3297: {2796},\n",
       " 3300: {2978},\n",
       " 3320: {3321},\n",
       " 3321: {3320},\n",
       " 3332: {3355},\n",
       " 3344: {3291},\n",
       " 3355: {3332},\n",
       " 3360: {3260},\n",
       " 3364: {3257},\n",
       " 3381: {2778},\n",
       " 3384: {2929},\n",
       " 3426: {2705},\n",
       " 3449: {3800},\n",
       " 3460: {3761},\n",
       " 3574: {3762},\n",
       " 3761: {3460},\n",
       " 3762: {3574},\n",
       " 3800: {3449}}"
      ]
     },
     "execution_count": 115,
     "metadata": {},
     "output_type": "execute_result"
    }
   ],
   "source": [
    "\n",
    "neighbor_map = net.get_adj_list()\n",
    "neighbor_map"
   ]
  },
  {
   "cell_type": "markdown",
   "id": "31ef183a",
   "metadata": {},
   "source": [
    "https://www.askpython.com/python/examples/customizing-pyvis-interactive-network-graphs"
   ]
  },
  {
   "cell_type": "code",
   "execution_count": 116,
   "id": "6ff4f8f2",
   "metadata": {},
   "outputs": [],
   "source": [
    "# add neighbor data to node hover data\n",
    "for node in net.nodes:\n",
    "    node[\"title\"] += \"Neighbors:\" + \"#\".join(str(x) for x in neighbor_map[node[\"id\"]])\n",
    "    "
   ]
  },
  {
   "cell_type": "code",
   "execution_count": 117,
   "id": "5fb968ae",
   "metadata": {},
   "outputs": [
    {
     "name": "stdout",
     "output_type": "stream",
     "text": [
      "graph1.html\n"
     ]
    },
    {
     "data": {
      "text/html": [
       "\n",
       "        <iframe\n",
       "            width=\"100%\"\n",
       "            height=\"750px\"\n",
       "            src=\"graph1.html\"\n",
       "            frameborder=\"0\"\n",
       "            allowfullscreen\n",
       "            \n",
       "        ></iframe>\n",
       "        "
      ],
      "text/plain": [
       "<IPython.lib.display.IFrame at 0x132ae57b2f0>"
      ]
     },
     "execution_count": 117,
     "metadata": {},
     "output_type": "execute_result"
    }
   ],
   "source": [
    "net.show(\"graph1.html\")"
   ]
  }
 ],
 "metadata": {
  "kernelspec": {
   "display_name": ".venv",
   "language": "python",
   "name": "python3"
  },
  "language_info": {
   "codemirror_mode": {
    "name": "ipython",
    "version": 3
   },
   "file_extension": ".py",
   "mimetype": "text/x-python",
   "name": "python",
   "nbconvert_exporter": "python",
   "pygments_lexer": "ipython3",
   "version": "3.13.0"
  }
 },
 "nbformat": 4,
 "nbformat_minor": 5
}
